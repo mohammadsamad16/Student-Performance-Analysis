{
  "cells": [
    {
      "cell_type": "markdown",
      "metadata": {
        "id": "mRuQXcVJoy8_"
      },
      "source": [
        "# Student performance Analysis"
      ]
    },
    {
      "cell_type": "code",
      "source": [
        "!git clone https://github.com/mohammadsamad16/Student-Performance-Analysis.git"
      ],
      "metadata": {
        "colab": {
          "base_uri": "https://localhost:8080/"
        },
        "id": "WVfjNAJkfQAI",
        "outputId": "344dd350-7378-4c44-f779-aa9443db6053"
      },
      "execution_count": 2,
      "outputs": [
        {
          "output_type": "stream",
          "name": "stdout",
          "text": [
            "fatal: destination path 'Student-Performance-Analysis' already exists and is not an empty directory.\n"
          ]
        }
      ]
    },
    {
      "cell_type": "code",
      "execution_count": 3,
      "metadata": {
        "id": "HNqbHMkJpaM_"
      },
      "outputs": [],
      "source": [
        "import numpy as np        # Numerical computations\n",
        "import pandas as pd       # Data handling & analysis\n",
        "import matplotlib.pyplot as plt   # Basic plots (line, bar, scatter, pie, etc.)\n",
        "import seaborn as sns             # Advanced statistical plots, heatmaps\n",
        "\n"
      ]
    },
    {
      "cell_type": "code",
      "metadata": {
        "colab": {
          "base_uri": "https://localhost:8080/",
          "height": 225
        },
        "id": "e9fdac7b",
        "outputId": "e1d0a568-ad98-4e7c-9c06-4e6b54addf39"
      },
      "source": [
        "from sklearn.pipeline import Pipeline # Import Pipeline\n",
        "from sklearn.preprocessing import StandardScaler, LabelEncoder # Import StandardScaler\n",
        "from sklearn.model_selection import GridSearchCV, train_test_split # Import GridSearchCV and train_test_split\n",
        "from sklearn.metrics import mean_squared_error, r2_score # Import metrics\n",
        "import numpy as np # Import numpy\n",
        "from sklearn.linear_model import LinearRegression, Ridge\n",
        "from sklearn.ensemble import RandomForestRegressor\n",
        "from sklearn.tree import DecisionTreeRegressor\n",
        "\n",
        "\n",
        "best_models = []  # Reset best_models list\n",
        "\n",
        "for name,config in model.items():\n",
        "    print (f\"Training {name}\")\n",
        "\n",
        "    # Pipeline with scaling + model\n",
        "    pipeline = Pipeline([\n",
        "        (\"scaler\", StandardScaler()),\n",
        "        (\"model\", config[\"model\"])\n",
        "    ])\n",
        "\n",
        "    # GridSearch\n",
        "    grid = GridSearchCV(pipeline,\n",
        "                        config[\"params\"],\n",
        "                        cv=5,\n",
        "                        scoring=\"neg_mean_squared_error\",\n",
        "                        n_jobs=-1)\n",
        "\n",
        "    grid.fit(X_train, Y_train)\n",
        "\n",
        "    # Predictions\n",
        "    y_pred = grid.predict(X_test)\n",
        "    rmse = np.sqrt(mean_squared_error(Y_test, y_pred))\n",
        "    r2 = r2_score(Y_test, y_pred)\n",
        "\n",
        "    best_models.append({\n",
        "        \"model_name\":name,\n",
        "        \"best_params\":grid.best_params_,\n",
        "        \"best_score\":-grid.best_score_,  # Convert to positive MSE\n",
        "        \"rmse\":rmse,\n",
        "        \"r2\":r2\n",
        "    })\n",
        "\n",
        "result_df = pd.DataFrame(best_models) # Update result_df after the loop\n",
        "display(result_df)"
      ],
      "execution_count": 6,
      "outputs": [
        {
          "output_type": "error",
          "ename": "NameError",
          "evalue": "name 'model' is not defined",
          "traceback": [
            "\u001b[0;31m---------------------------------------------------------------------------\u001b[0m",
            "\u001b[0;31mNameError\u001b[0m                                 Traceback (most recent call last)",
            "\u001b[0;32m/tmp/ipython-input-898467727.py\u001b[0m in \u001b[0;36m<cell line: 0>\u001b[0;34m()\u001b[0m\n\u001b[1;32m     11\u001b[0m \u001b[0mbest_models\u001b[0m \u001b[0;34m=\u001b[0m \u001b[0;34m[\u001b[0m\u001b[0;34m]\u001b[0m  \u001b[0;31m# Reset best_models list\u001b[0m\u001b[0;34m\u001b[0m\u001b[0;34m\u001b[0m\u001b[0m\n\u001b[1;32m     12\u001b[0m \u001b[0;34m\u001b[0m\u001b[0m\n\u001b[0;32m---> 13\u001b[0;31m \u001b[0;32mfor\u001b[0m \u001b[0mname\u001b[0m\u001b[0;34m,\u001b[0m\u001b[0mconfig\u001b[0m \u001b[0;32min\u001b[0m \u001b[0mmodel\u001b[0m\u001b[0;34m.\u001b[0m\u001b[0mitems\u001b[0m\u001b[0;34m(\u001b[0m\u001b[0;34m)\u001b[0m\u001b[0;34m:\u001b[0m\u001b[0;34m\u001b[0m\u001b[0;34m\u001b[0m\u001b[0m\n\u001b[0m\u001b[1;32m     14\u001b[0m     \u001b[0mprint\u001b[0m \u001b[0;34m(\u001b[0m\u001b[0;34mf\"Training {name}\"\u001b[0m\u001b[0;34m)\u001b[0m\u001b[0;34m\u001b[0m\u001b[0;34m\u001b[0m\u001b[0m\n\u001b[1;32m     15\u001b[0m \u001b[0;34m\u001b[0m\u001b[0m\n",
            "\u001b[0;31mNameError\u001b[0m: name 'model' is not defined"
          ]
        }
      ]
    },
    {
      "cell_type": "code",
      "metadata": {
        "id": "13721dd6",
        "colab": {
          "base_uri": "https://localhost:8080/",
          "height": 225
        },
        "outputId": "d0879f93-aee0-4d7f-df81-d613a583d49d"
      },
      "source": [
        "from sklearn.pipeline import Pipeline # Import Pipeline\n",
        "from sklearn.preprocessing import StandardScaler, LabelEncoder # Import StandardScaler\n",
        "from sklearn.model_selection import GridSearchCV, train_test_split # Import GridSearchCV and train_test_split\n",
        "from sklearn.metrics import mean_squared_error, r2_score # Import metrics\n",
        "import numpy as np # Import numpy\n",
        "from sklearn.linear_model import LinearRegression, Ridge\n",
        "from sklearn.ensemble import RandomForestRegressor\n",
        "from sklearn.tree import DecisionTreeRegressor\n",
        "\n",
        "\n",
        "best_models = []  # Reset best_models list\n",
        "\n",
        "for name,config in models.items():\n",
        "    print (f\"Training {name}\")\n",
        "\n",
        "    # Pipeline with scaling + model\n",
        "    pipeline = Pipeline([\n",
        "        (\"scaler\", StandardScaler()),\n",
        "        (\"model\", config[\"model\"])\n",
        "    ])\n",
        "\n",
        "    # GridSearch\n",
        "    grid = GridSearchCV(pipeline,\n",
        "                        config[\"params\"],\n",
        "                        cv=5,\n",
        "                        scoring=\"neg_mean_squared_error\",\n",
        "                        n_jobs=-1)\n",
        "\n",
        "    grid.fit(X_train, Y_train)\n",
        "\n",
        "    # Predictions\n",
        "    y_pred = grid.predict(X_test)\n",
        "    rmse = np.sqrt(mean_squared_error(Y_test, y_pred))\n",
        "    r2 = r2_score(Y_test, y_pred)\n",
        "\n",
        "    best_models.append({\n",
        "        \"model_name\":name,\n",
        "        \"best_params\":grid.best_params_,\n",
        "        \"best_score\":-grid.best_score_,  # Convert to positive MSE\n",
        "        \"rmse\":rmse,\n",
        "        \"r2\":r2\n",
        "    })\n",
        "\n",
        "result_df = pd.DataFrame(best_models) # Update result_df after the loop\n",
        "display(result_df)"
      ],
      "execution_count": 7,
      "outputs": [
        {
          "output_type": "error",
          "ename": "NameError",
          "evalue": "name 'models' is not defined",
          "traceback": [
            "\u001b[0;31m---------------------------------------------------------------------------\u001b[0m",
            "\u001b[0;31mNameError\u001b[0m                                 Traceback (most recent call last)",
            "\u001b[0;32m/tmp/ipython-input-531407187.py\u001b[0m in \u001b[0;36m<cell line: 0>\u001b[0;34m()\u001b[0m\n\u001b[1;32m     11\u001b[0m \u001b[0mbest_models\u001b[0m \u001b[0;34m=\u001b[0m \u001b[0;34m[\u001b[0m\u001b[0;34m]\u001b[0m  \u001b[0;31m# Reset best_models list\u001b[0m\u001b[0;34m\u001b[0m\u001b[0;34m\u001b[0m\u001b[0m\n\u001b[1;32m     12\u001b[0m \u001b[0;34m\u001b[0m\u001b[0m\n\u001b[0;32m---> 13\u001b[0;31m \u001b[0;32mfor\u001b[0m \u001b[0mname\u001b[0m\u001b[0;34m,\u001b[0m\u001b[0mconfig\u001b[0m \u001b[0;32min\u001b[0m \u001b[0mmodels\u001b[0m\u001b[0;34m.\u001b[0m\u001b[0mitems\u001b[0m\u001b[0;34m(\u001b[0m\u001b[0;34m)\u001b[0m\u001b[0;34m:\u001b[0m\u001b[0;34m\u001b[0m\u001b[0;34m\u001b[0m\u001b[0m\n\u001b[0m\u001b[1;32m     14\u001b[0m     \u001b[0mprint\u001b[0m \u001b[0;34m(\u001b[0m\u001b[0;34mf\"Training {name}\"\u001b[0m\u001b[0;34m)\u001b[0m\u001b[0;34m\u001b[0m\u001b[0;34m\u001b[0m\u001b[0m\n\u001b[1;32m     15\u001b[0m \u001b[0;34m\u001b[0m\u001b[0m\n",
            "\u001b[0;31mNameError\u001b[0m: name 'models' is not defined"
          ]
        }
      ]
    },
    {
      "cell_type": "code",
      "metadata": {
        "id": "1cde3240"
      },
      "source": [
        "X_train, X_test, Y_train, Y_test = train_test_split(X, Y, test_size=0.2, random_state=42)"
      ],
      "execution_count": null,
      "outputs": []
    },
    {
      "cell_type": "code",
      "metadata": {
        "id": "90334ebd"
      },
      "source": [
        "X = df_model[features]\n",
        "Y = df_model[target]"
      ],
      "execution_count": null,
      "outputs": []
    },
    {
      "cell_type": "code",
      "metadata": {
        "id": "f65682f9"
      },
      "source": [
        "df_model = df[features + [target]].copy()"
      ],
      "execution_count": null,
      "outputs": []
    },
    {
      "cell_type": "code",
      "metadata": {
        "id": "6016266c"
      },
      "source": [
        "target =\"exam_score\""
      ],
      "execution_count": null,
      "outputs": []
    },
    {
      "cell_type": "code",
      "metadata": {
        "id": "81b4357c"
      },
      "source": [
        "X_train, X_test, Y_train, Y_test = train_test_split(X, Y, test_size=0.2, random_state=42)"
      ],
      "execution_count": null,
      "outputs": []
    },
    {
      "cell_type": "code",
      "metadata": {
        "id": "08ce87e6"
      },
      "source": [
        "X = df_model[features]\n",
        "Y = df_model[target]"
      ],
      "execution_count": null,
      "outputs": []
    },
    {
      "cell_type": "code",
      "metadata": {
        "id": "b66fdf10"
      },
      "source": [
        "from sklearn.pipeline import Pipeline # Import Pipeline\n",
        "from sklearn.preprocessing import StandardScaler, LabelEncoder # Import StandardScaler\n",
        "from sklearn.model_selection import GridSearchCV, train_test_split # Import GridSearchCV and train_test_split\n",
        "from sklearn.metrics import mean_squared_error, r2_score # Import metrics\n",
        "import numpy as np # Import numpy\n",
        "from sklearn.linear_model import LinearRegression, Ridge\n",
        "from sklearn.ensemble import RandomForestRegressor\n",
        "from sklearn.tree import DecisionTreeRegressor\n",
        "\n",
        "\n",
        "best_models = []  # Reset best_models list\n",
        "\n",
        "for name,config in models.items():\n",
        "    print (f\"Training {name}\")\n",
        "\n",
        "    # Pipeline with scaling + model\n",
        "    pipeline = Pipeline([\n",
        "        (\"scaler\", StandardScaler()),\n",
        "        (\"model\", config[\"model\"])\n",
        "    ])\n",
        "\n",
        "    # GridSearch\n",
        "    grid = GridSearchCV(pipeline,\n",
        "                        config[\"params\"],\n",
        "                        cv=5,\n",
        "                        scoring=\"neg_mean_squared_error\",\n",
        "                        n_jobs=-1)\n",
        "\n",
        "    grid.fit(X_train, Y_train)\n",
        "\n",
        "    # Predictions\n",
        "    y_pred = grid.predict(X_test)\n",
        "    rmse = np.sqrt(mean_squared_error(Y_test, y_pred))\n",
        "    r2 = r2_score(Y_test, y_pred)\n",
        "\n",
        "    best_models.append({\n",
        "        \"model_name\":name,\n",
        "        \"best_params\":grid.best_params_,\n",
        "        \"best_score\":-grid.best_score_,  # Convert to positive MSE\n",
        "        \"rmse\":rmse,\n",
        "        \"r2\":r2\n",
        "    })\n",
        "\n",
        "result_df = pd.DataFrame(best_models) # Update result_df after the loop\n",
        "display(result_df)"
      ],
      "execution_count": null,
      "outputs": []
    },
    {
      "cell_type": "code",
      "metadata": {
        "id": "4eb1ca94"
      },
      "source": [
        "le = LabelEncoder()\n",
        "df_model[\"part_time_job\"]=le.fit_transform(df_model[\"part_time_job\"])"
      ],
      "execution_count": null,
      "outputs": []
    },
    {
      "cell_type": "code",
      "metadata": {
        "id": "12dba28f"
      },
      "source": [
        "from sklearn.pipeline import Pipeline # Import Pipeline\n",
        "from sklearn.preprocessing import StandardScaler, LabelEncoder # Import StandardScaler\n",
        "from sklearn.model_selection import GridSearchCV, train_test_split # Import GridSearchCV and train_test_split\n",
        "from sklearn.metrics import mean_squared_error, r2_score # Import metrics\n",
        "import numpy as np # Import numpy\n",
        "from sklearn.linear_model import LinearRegression, Ridge\n",
        "from sklearn.ensemble import RandomForestRegressor\n",
        "from sklearn.tree import DecisionTreeRegressor\n",
        "\n",
        "\n",
        "best_models = []  # Reset best_models list\n",
        "\n",
        "for name,config in models.items():\n",
        "    print (f\"Training {name}\")\n",
        "\n",
        "    # Pipeline with scaling + model\n",
        "    pipeline = Pipeline([\n",
        "        (\"scaler\", StandardScaler()),\n",
        "        (\"model\", config[\"model\"])\n",
        "    ])\n",
        "\n",
        "    # GridSearch\n",
        "    grid = GridSearchCV(pipeline,\n",
        "                        config[\"params\"],\n",
        "                        cv=5,\n",
        "                        scoring=\"neg_mean_squared_error\",\n",
        "                        n_jobs=-1)\n",
        "\n",
        "    grid.fit(X_train, Y_train)\n",
        "\n",
        "    # Predictions\n",
        "    y_pred = grid.predict(X_test)\n",
        "    rmse = np.sqrt(mean_squared_error(Y_test, y_pred))\n",
        "    r2 = r2_score(Y_test, y_pred)\n",
        "\n",
        "    best_models.append({\n",
        "        \"model_name\":name,\n",
        "        \"best_params\":grid.best_params_,\n",
        "        \"best_score\":-grid.best_score_,  # Convert to positive MSE\n",
        "        \"rmse\":rmse,\n",
        "        \"r2\":r2\n",
        "    })\n",
        "\n",
        "result_df = pd.DataFrame(best_models) # Update result_df after the loop\n",
        "display(result_df)"
      ],
      "execution_count": null,
      "outputs": []
    },
    {
      "cell_type": "code",
      "metadata": {
        "id": "6cd78700"
      },
      "source": [
        "features=[\"study_hours_per_day\",\"attendance_percentage\",'mental_health_rating','sleep_hours','part_time_job']"
      ],
      "execution_count": null,
      "outputs": []
    },
    {
      "cell_type": "code",
      "metadata": {
        "id": "9aa45741"
      },
      "source": [
        "df_model = df[features + [target]].copy()"
      ],
      "execution_count": null,
      "outputs": []
    },
    {
      "cell_type": "code",
      "metadata": {
        "id": "eb8c574e"
      },
      "source": [
        "df = pd.read_csv(\"/content/student_habits_performance.csv\")"
      ],
      "execution_count": null,
      "outputs": []
    },
    {
      "cell_type": "code",
      "metadata": {
        "id": "f3f74c4e"
      },
      "source": [
        "df_model = df[features + [target]].copy()"
      ],
      "execution_count": null,
      "outputs": []
    },
    {
      "cell_type": "code",
      "metadata": {
        "id": "174165b6"
      },
      "source": [
        "X = df_model[features]\n",
        "Y = df_model[target]"
      ],
      "execution_count": null,
      "outputs": []
    },
    {
      "cell_type": "code",
      "metadata": {
        "id": "ce86056f"
      },
      "source": [
        "from sklearn.linear_model import LinearRegression, Ridge\n",
        "from sklearn.ensemble import RandomForestRegressor\n",
        "from sklearn.tree import DecisionTreeRegressor\n",
        "\n",
        "models ={\n",
        "    \"LinearRegression\":{\n",
        "        \"model\": LinearRegression(),\n",
        "        \"params\": {\"model__fit_intercept\": [True, False]}\n",
        "    },\n",
        "    \"DecisonTree\":{\n",
        "        \"model\": DecisionTreeRegressor(),\n",
        "      \"params\": {\"model__max_depth\": [3,5,10], \"model__min_samples_split\": [2,5,10]}\n",
        "    },\n",
        "    \"RandomForest\":{\n",
        "        \"model\": RandomForestRegressor(),\n",
        "        \"params\":{\"model__n_estimators\":[50,100],\"model__max_depth\":[5,10]}\n",
        "    },\n",
        "    \"Ridge\": { # Add Ridge Regression\n",
        "        \"model\": Ridge(),\n",
        "        \"params\": {\"model__alpha\": [0.1, 1.0, 10.0]}\n",
        "    }\n",
        "}"
      ],
      "execution_count": null,
      "outputs": []
    },
    {
      "cell_type": "code",
      "metadata": {
        "id": "4a49a339"
      },
      "source": [
        "X_train, X_test, Y_train, Y_test = train_test_split(X, Y, test_size=0.2, random_state=42)"
      ],
      "execution_count": null,
      "outputs": []
    },
    {
      "cell_type": "code",
      "metadata": {
        "id": "9265fce6"
      },
      "source": [
        "X_train, X_test, Y_train, Y_test = train_test_split(X, Y, test_size=0.2, random_state=42)"
      ],
      "execution_count": null,
      "outputs": []
    },
    {
      "cell_type": "code",
      "execution_count": null,
      "metadata": {
        "id": "p6WKgOa7p0gS"
      },
      "outputs": [],
      "source": [
        "from sklearn.model_selection import train_test_split   # Splitting dataset\n",
        "from sklearn.preprocessing import LabelEncoder, StandardScaler   # Encoding & scaling\n",
        "from sklearn.linear_model import LogisticRegression    # Example ML model\n",
        "from sklearn.ensemble import RandomForestClassifier    # Advanced ML model\n",
        "from sklearn.metrics import accuracy_score, classification_report, confusion_matrix\n"
      ]
    },
    {
      "cell_type": "code",
      "execution_count": null,
      "metadata": {
        "id": "qIyQVlfBp8a1"
      },
      "outputs": [],
      "source": [
        "df = pd.read_csv(\"/content/student_habits_performance.csv\")"
      ]
    },
    {
      "cell_type": "code",
      "execution_count": null,
      "metadata": {
        "id": "JoYXayFgFO6B"
      },
      "outputs": [],
      "source": [
        "df.head()"
      ]
    },
    {
      "cell_type": "code",
      "execution_count": null,
      "metadata": {
        "id": "_Sbyxd9aFOwX"
      },
      "outputs": [],
      "source": [
        "df.describe()"
      ]
    },
    {
      "cell_type": "code",
      "execution_count": null,
      "metadata": {
        "id": "2UU_fPqqE8sq"
      },
      "outputs": [],
      "source": [
        "df.isna().sum().sum()"
      ]
    },
    {
      "cell_type": "code",
      "execution_count": null,
      "metadata": {
        "id": "MNOe0O2MXq33"
      },
      "outputs": [],
      "source": [
        "df.dropna( )"
      ]
    },
    {
      "cell_type": "code",
      "execution_count": null,
      "metadata": {
        "id": "mWxv1mdJRU0L"
      },
      "outputs": [],
      "source": [
        "df.duplicated().sum()"
      ]
    },
    {
      "cell_type": "code",
      "execution_count": null,
      "metadata": {
        "id": "iKd-jaFtRY6L"
      },
      "outputs": [],
      "source": []
    },
    {
      "cell_type": "code",
      "execution_count": null,
      "metadata": {
        "id": "THDvt-ppRikB"
      },
      "outputs": [],
      "source": [
        "from google.colab import drive\n",
        "drive.mount('/content/drive')\n"
      ]
    },
    {
      "cell_type": "code",
      "execution_count": null,
      "metadata": {
        "id": "o-m_P5rYSuTO"
      },
      "outputs": [],
      "source": [
        "df.describe()"
      ]
    },
    {
      "cell_type": "code",
      "execution_count": null,
      "metadata": {
        "id": "1hBZTE12S2J7"
      },
      "outputs": [],
      "source": [
        "df.describe(include='object')"
      ]
    },
    {
      "cell_type": "code",
      "execution_count": null,
      "metadata": {
        "id": "PC9CnaepTwFd"
      },
      "outputs": [],
      "source": [
        "categorical_cols= ['student_id', 'gender', 'part_time_job', 'diet_quality',\n",
        "       'parental_education_level', 'internet_quality',\n",
        "       'extracurricular_participation']"
      ]
    },
    {
      "cell_type": "code",
      "execution_count": null,
      "metadata": {
        "id": "zZw4L-AcUEzM"
      },
      "outputs": [],
      "source": [
        "for col in categorical_cols:\n",
        "  print(f\"value counts for{col}: \\n {df[col].value_counts()}\")"
      ]
    },
    {
      "cell_type": "code",
      "execution_count": null,
      "metadata": {
        "id": "VEehLFxQi7oj"
      },
      "outputs": [],
      "source": [
        "df.hist(bins=20 , edgecolor =\"black\")\n",
        "plt.tight_layout()\n",
        "plt.show"
      ]
    },
    {
      "cell_type": "code",
      "execution_count": null,
      "metadata": {
        "id": "XrRBIkVtjQBD"
      },
      "outputs": [],
      "source": [
        "for col in categorical_cols:\n",
        "    sns.countplot(data=df, x = col)\n",
        "    plt.title(f\"Distribution of{col}\")\n",
        "    plt.xticks(rotation = 45)\n",
        "    plt.show()"
      ]
    },
    {
      "cell_type": "code",
      "execution_count": null,
      "metadata": {
        "id": "CrNBdTa3kPQV"
      },
      "outputs": [],
      "source": [
        "df.corr(numeric_only = True)"
      ]
    },
    {
      "cell_type": "code",
      "execution_count": null,
      "metadata": {
        "id": "Emum-fjUkkXM"
      },
      "outputs": [],
      "source": [
        "sns.heatmap(df.corr(numeric_only = True),annot=True , cmap = \"coolwarm\",fmt =\".2f\")\n",
        "plt.title(\"Correlation Matrix\")\n",
        "plt.show()"
      ]
    },
    {
      "cell_type": "code",
      "execution_count": null,
      "metadata": {
        "id": "abpIQn42lq0C"
      },
      "outputs": [],
      "source": [
        "df.describe().columns"
      ]
    },
    {
      "cell_type": "code",
      "execution_count": null,
      "metadata": {
        "id": "6E9baQqCk9Ex"
      },
      "outputs": [],
      "source": [
        "num_features=['age', 'study_hours_per_day', 'social_media_hours', 'netflix_hours',\n",
        "       'attendance_percentage', 'sleep_hours', 'exercise_frequency',\n",
        "       'mental_health_rating', 'exam_score']"
      ]
    },
    {
      "cell_type": "code",
      "execution_count": null,
      "metadata": {
        "id": "hkz9eVgzl4ff"
      },
      "outputs": [],
      "source": [
        "for features in num_features:\n",
        "  sns.scatterplot(data = df , x = features , y =\"exam_score\")\n",
        "  plt.title(f\"{features}vs Exam_score\")\n",
        "  plt.show()"
      ]
    },
    {
      "cell_type": "code",
      "execution_count": null,
      "metadata": {
        "id": "XHW25B4vmfKu"
      },
      "outputs": [],
      "source": [
        "for col in categorical_cols:\n",
        "  sns.boxplot(data= df , x = col , y = \"exam_score\")\n",
        "  plt.title(F\"EXAM SCORE by {col}\")\n",
        "  plt.show()"
      ]
    },
    {
      "cell_type": "code",
      "execution_count": null,
      "metadata": {
        "id": "cv1Ff7xtnSK4"
      },
      "outputs": [],
      "source": [
        "from sklearn.preprocessing import LabelEncoder\n",
        "from sklearn.metrics import mean_squared_error,r2_score\n",
        "from sklearn.linear_model import LinearRegression, Ridge\n",
        "from sklearn.ensemble import RandomForestRegressor\n",
        "from sklearn.tree import DecisionTreeRegressor"
      ]
    },
    {
      "cell_type": "code",
      "execution_count": null,
      "metadata": {
        "id": "ZIjzNUacpOXi"
      },
      "outputs": [],
      "source": [
        "df.columns"
      ]
    },
    {
      "cell_type": "code",
      "execution_count": null,
      "metadata": {
        "id": "_dDOux3vnlhb"
      },
      "outputs": [],
      "source": [
        "df.head(2)"
      ]
    },
    {
      "cell_type": "code",
      "execution_count": null,
      "metadata": {
        "id": "NF94CIYIpB27"
      },
      "outputs": [],
      "source": [
        "features=[\"study_hours_per_day\",\"attendance_percentage\",'mental_health_rating','sleep_hours','part_time_job']"
      ]
    },
    {
      "cell_type": "code",
      "execution_count": null,
      "metadata": {
        "id": "5Fli-5SXprf6"
      },
      "outputs": [],
      "source": [
        "target =\"exam_score\"\n"
      ]
    },
    {
      "cell_type": "code",
      "execution_count": null,
      "metadata": {
        "id": "LsFwvp1jpwBX"
      },
      "outputs": [],
      "source": [
        "df_model = df[features + [target]].copy()"
      ]
    },
    {
      "cell_type": "code",
      "execution_count": null,
      "metadata": {
        "id": "LLk3VxOmqGGj"
      },
      "outputs": [],
      "source": [
        "df_model"
      ]
    },
    {
      "cell_type": "code",
      "execution_count": null,
      "metadata": {
        "id": "QA5g3YbqqIyg"
      },
      "outputs": [],
      "source": [
        "le = LabelEncoder()"
      ]
    },
    {
      "cell_type": "code",
      "execution_count": null,
      "metadata": {
        "id": "LijtNOYAqR7S"
      },
      "outputs": [],
      "source": [
        "df_model[\"part_time_job\"]=le.fit_transform(df_model[\"part_time_job\"])"
      ]
    },
    {
      "cell_type": "code",
      "execution_count": null,
      "metadata": {
        "id": "LxFJVQufqcdM"
      },
      "outputs": [],
      "source": [
        "df_model"
      ]
    },
    {
      "cell_type": "code",
      "execution_count": null,
      "metadata": {
        "id": "99VUbUadqvCe"
      },
      "outputs": [],
      "source": [
        "X = df_model[features]\n",
        "Y = df_model[target]"
      ]
    },
    {
      "cell_type": "code",
      "execution_count": null,
      "metadata": {
        "id": "l52Wm03yrFUt"
      },
      "outputs": [],
      "source": [
        "X_train, X_test, Y_train, Y_test = train_test_split(X, Y, test_size=0.2, random_state=42)"
      ]
    },
    {
      "cell_type": "code",
      "execution_count": null,
      "metadata": {
        "id": "5uzd9rAtrVgs"
      },
      "outputs": [],
      "source": [
        "len(Y_test)"
      ]
    },
    {
      "cell_type": "code",
      "execution_count": null,
      "metadata": {
        "id": "AvaDtSQnrqBP"
      },
      "outputs": [],
      "source": [
        "len(Y_train)"
      ]
    },
    {
      "cell_type": "code",
      "execution_count": null,
      "metadata": {
        "id": "ieh6PBR5rvVJ"
      },
      "outputs": [],
      "source": [
        "from sklearn.linear_model import LinearRegression, Ridge\n",
        "from sklearn.ensemble import RandomForestRegressor\n",
        "from sklearn.tree import DecisionTreeRegressor\n",
        "\n",
        "models ={\n",
        "    \"LinearRegression\":{\n",
        "        \"model\": LinearRegression(),\n",
        "        \"params\": {\"fit_intercept\": [True, False]}\n",
        "    },\n",
        "    \"DecisonTree\":{\n",
        "        \"model\": DecisionTreeRegressor(),\n",
        "      \"params\": {\"model__max_depth\": [3,5,10], \"model__min_samples_split\": [2,5,10]}\n",
        "    },\n",
        "    \"RandomForest\":{\n",
        "        \"model\": RandomForestRegressor(),\n",
        "        \"params\":{\"model__n_estimators\":[50,100],\"model__max_depth\":[5,10]}\n",
        "    },\n",
        "    \"Ridge\": { # Add Ridge Regression\n",
        "        \"model\": Ridge(),\n",
        "        \"params\": {\"model__alpha\": [0.1, 1.0, 10.0]}\n",
        "    }\n",
        "}"
      ]
    },
    {
      "cell_type": "code",
      "execution_count": null,
      "metadata": {
        "id": "CebqNfhYCNo-"
      },
      "outputs": [],
      "source": [
        "best_models =[]"
      ]
    },
    {
      "cell_type": "code",
      "execution_count": null,
      "metadata": {
        "id": "owJ0bYasCXxw"
      },
      "outputs": [],
      "source": []
    },
    {
      "cell_type": "code",
      "execution_count": null,
      "metadata": {
        "id": "mcg_ZOtlCTvo"
      },
      "outputs": [],
      "source": [
        "for name,config in models.items():\n",
        "    print (f\"Training{name}\")\n",
        "\n",
        "\n",
        "    grid = GridSearchCV(config[\"model\"],config[\"params\"], cv=5 , scoring=\"neg_mean_squared_error\")\n",
        "    grid.fit(X_train,Y_train)\n",
        "\n",
        "    y_pred = grid.predict(X_test)\n",
        "    rmse = np.sqrt(mean_squared_error(Y_test,y_pred))\n",
        "    r2 = r2_score(Y_test,y_pred)\n",
        "\n",
        "    best_models.append({\n",
        "      \"model_name\":name,\n",
        "      \"best_params\":grid.best_params_,\n",
        "      \"best_score\":grid.best_score_,\n",
        "      \"rmse\":rmse,\n",
        "      \"r2\":r2\n",
        "  })"
      ]
    },
    {
      "cell_type": "code",
      "execution_count": null,
      "metadata": {
        "id": "aT2EhEghDbs9"
      },
      "outputs": [],
      "source": [
        "result_df = pd.DataFrame(best_models)\n"
      ]
    },
    {
      "cell_type": "code",
      "source": [
        "from sklearn.pipeline import Pipeline # Import Pipeline\n",
        "\n",
        "best_models = []  # Reset best_models list\n",
        "\n",
        "for name,config in models.items():\n",
        "    print (f\"Training {name}\")\n",
        "\n",
        "    # Pipeline with scaling + model\n",
        "    pipeline = Pipeline([\n",
        "        (\"scaler\", StandardScaler()),\n",
        "        (\"model\", config[\"model\"])\n",
        "    ])\n",
        "\n",
        "    # GridSearch\n",
        "    grid = GridSearchCV(pipeline,\n",
        "                        config[\"params\"],\n",
        "                        cv=5,\n",
        "                        scoring=\"neg_mean_squared_error\",\n",
        "                        n_jobs=-1)\n",
        "\n",
        "    grid.fit(X_train, Y_train)\n",
        "\n",
        "    # Predictions\n",
        "    y_pred = grid.predict(X_test)\n",
        "    rmse = np.sqrt(mean_squared_error(Y_test, y_pred))\n",
        "    r2 = r2_score(Y_test, y_pred)\n",
        "\n",
        "    best_models.append({\n",
        "        \"model_name\":name,\n",
        "        \"best_params\":grid.best_params_,\n",
        "        \"best_score\":-grid.best_score_,  # Convert to positive MSE\n",
        "        \"rmse\":rmse,\n",
        "        \"r2\":r2\n",
        "    })\n",
        "\n",
        "result_df = pd.DataFrame(best_models) # Update result_df after the loop\n",
        "display(result_df)"
      ],
      "metadata": {
        "id": "bRgWVMbaqVND"
      },
      "execution_count": null,
      "outputs": []
    },
    {
      "cell_type": "code",
      "execution_count": null,
      "metadata": {
        "id": "aB0aeGfmJJGi"
      },
      "outputs": [],
      "source": [
        "import joblib\n",
        "\n",
        "best_row = result_df.sort_values(by=\"rmse\").iloc[0]\n",
        "best_model = best_row[\"model_name\"]\n",
        "best_params = best_row[\"best_params\"]\n",
        "best_model_config = models[best_model]\n",
        "\n",
        "best_model_config[\"model\"].set_params(**best_params)\n"
      ]
    },
    {
      "cell_type": "code",
      "execution_count": null,
      "metadata": {
        "id": "2UTJJQzVJY41"
      },
      "outputs": [],
      "source": [
        "final_model = best_model_config[\"model\"]\n",
        "final_model.fit(X,Y)"
      ]
    },
    {
      "cell_type": "code",
      "execution_count": null,
      "metadata": {
        "id": "ZBpngOnNKBDr"
      },
      "outputs": [],
      "source": [
        "best_model_config"
      ]
    },
    {
      "cell_type": "code",
      "execution_count": null,
      "metadata": {
        "id": "TtL63kX-KdWp"
      },
      "outputs": [],
      "source": [
        "final_model = best_model_config[\"model\"]"
      ]
    },
    {
      "cell_type": "code",
      "execution_count": null,
      "metadata": {
        "id": "jO-AgHgkKowK"
      },
      "outputs": [],
      "source": [
        "final_model.fit(X,Y)"
      ]
    },
    {
      "cell_type": "code",
      "execution_count": null,
      "metadata": {
        "id": "DdtC2Y2cKr1I"
      },
      "outputs": [],
      "source": [
        "joblib.dump(final_model,\"best_model.pkl\")"
      ]
    },
    {
      "cell_type": "code",
      "execution_count": null,
      "metadata": {
        "id": "Fc1TLywkK5DT"
      },
      "outputs": [],
      "source": [
        "joblib.load(\"best_model.pkl\").predict(X_test)"
      ]
    },
    {
      "cell_type": "markdown",
      "metadata": {
        "id": "t-kT0torLim3"
      },
      "source": [
        "creating a **frontend**"
      ]
    },
    {
      "cell_type": "code",
      "execution_count": null,
      "metadata": {
        "id": "02f4aab2"
      },
      "outputs": [],
      "source": [
        "!pip install streamlit"
      ]
    },
    {
      "cell_type": "code",
      "execution_count": null,
      "metadata": {
        "id": "55b47d81"
      },
      "outputs": [],
      "source": [
        "import streamlit as st\n",
        "import numpy as np\n",
        "import joblib\n",
        "import warnings\n",
        "\n",
        "warnings.filterwarnings(\"ignore\")\n",
        "\n",
        "model = joblib.load(\"best_model.pkl\")\n",
        "\n",
        "st.title(\"Student Exam Score Prediction\")\n"
      ]
    },
    {
      "cell_type": "code",
      "execution_count": null,
      "metadata": {
        "id": "Wl06iMZuyDHT"
      },
      "outputs": [],
      "source": [
        "\n",
        "# Sliders\n",
        "study_hours = st.slider(\"Study hours per Day\", 0.0, 12.0, 2.0)\n",
        "attendance = st.slider(\"Attendance Percentage\", 0.0, 100.0, 88.8)\n",
        "mental_health = st.slider(\"Mental Health Rating (1-10)\", 1, 10, 5)\n",
        "sleep_hours = st.slider(\"Sleep Hours Per Night\", 0.0, 12.0, 7.8)\n",
        "part_time_job = st.selectbox(\"Part-time Job\", [\"No\", \"Yes\"])\n",
        "\n",
        "# Encode part-time job\n",
        "tj_encoded = 1 if part_time_job == \"Yes\" else 0\n",
        "\n",
        "# Button\n",
        "if st.button(\"Predict Exam Score\"):\n",
        "    # Example: dummy ML model (replace with your trained model)\n",
        "    # Here I'm just doing a random calculation for demo\n",
        "    input_data = np.array([[study_hours, attendance, mental_health, sleep_hours, tj_encoded]])\n",
        "\n",
        "    # Replace this line with your actual model.predict(input_data)\n",
        "    prediction = (study_hours * 5 + attendance * 0.3 + mental_health * 2 + sleep_hours * 1.5 - tj_encoded * 5) / 2\n",
        "\n",
        "    prediction = max(0, min(100, prediction))  # keep score between 0 and 100\n",
        "\n",
        "    st.success(f\"Predicted Exam Score: {prediction:.2f}\")\n"
      ]
    },
    {
      "cell_type": "code",
      "execution_count": null,
      "metadata": {
        "id": "_5D8F9A8ypUj"
      },
      "outputs": [],
      "source": [
        "!pip install streamlit pyngrok\n"
      ]
    },
    {
      "cell_type": "code",
      "execution_count": null,
      "metadata": {
        "id": "0_ucIJ97zigR"
      },
      "outputs": [],
      "source": [
        "from pyngrok import ngrok\n",
        "\n",
        "# Run streamlit app in background\n",
        "!streamlit run app.py &>/dev/null&\n",
        "\n",
        "\n"
      ]
    },
    {
      "cell_type": "code",
      "execution_count": null,
      "metadata": {
        "id": "xX5T_29m9tJQ"
      },
      "outputs": [],
      "source": []
    },
    {
      "cell_type": "code",
      "execution_count": null,
      "metadata": {
        "id": "Lb1pSWVM-CAp"
      },
      "outputs": [],
      "source": [
        "!ngrok config add-authtoken 31pX2S1oK8hjfCRDnPNir047Ux4_7wdE5GFYVVAqz28aLTuUD\n"
      ]
    },
    {
      "cell_type": "code",
      "execution_count": null,
      "metadata": {
        "id": "7JCiW-R5-_TW"
      },
      "outputs": [],
      "source": [
        "from pyngrok import ngrok\n",
        "\n",
        "ngrok.kill()   # purane tunnels band karo\n",
        "\n",
        "!streamlit run app.py &>/dev/null&\n",
        "\n",
        "public_url = ngrok.connect(8501)\n",
        "print(\"✅ App yahan live hai:\", public_url)\n"
      ]
    },
    {
      "cell_type": "code",
      "execution_count": null,
      "metadata": {
        "id": "eczq9aLQ_boN"
      },
      "outputs": [],
      "source": []
    }
  ],
  "metadata": {
    "colab": {
      "provenance": []
    },
    "kernelspec": {
      "display_name": "Python 3",
      "name": "python3"
    },
    "language_info": {
      "name": "python"
    }
  },
  "nbformat": 4,
  "nbformat_minor": 0
}